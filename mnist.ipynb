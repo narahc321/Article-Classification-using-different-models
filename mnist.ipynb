{
  "nbformat": 4,
  "nbformat_minor": 0,
  "metadata": {
    "colab": {
      "name": "mnist.ipynb",
      "version": "0.3.2",
      "provenance": [],
      "collapsed_sections": []
    },
    "kernelspec": {
      "name": "python3",
      "display_name": "Python 3"
    },
    "accelerator": "GPU"
  },
  "cells": [
    {
      "metadata": {
        "id": "zaRBBnDwJ9la",
        "colab_type": "code",
        "colab": {}
      },
      "cell_type": "code",
      "source": [
        "import tensorflow as tf\n",
        "from tensorflow.examples.tutorials.mnist import input_data"
      ],
      "execution_count": 0,
      "outputs": []
    },
    {
      "metadata": {
        "id": "x2g17LprJ8kZ",
        "colab_type": "code",
        "colab": {
          "base_uri": "https://localhost:8080/",
          "height": 85
        },
        "outputId": "c3c836f2-fee7-4401-d9e7-16966c9b60c3"
      },
      "cell_type": "code",
      "source": [
        "old_v = tf.logging.get_verbosity()\n",
        "tf.logging.set_verbosity(tf.logging.ERROR)\n",
        "mnist = input_data.read_data_sets(\"/tmp/data/\",one_hot=True)\n",
        "tf.logging.set_verbosity(old_v)\n"
      ],
      "execution_count": 96,
      "outputs": [
        {
          "output_type": "stream",
          "text": [
            "Extracting /tmp/data/train-images-idx3-ubyte.gz\n",
            "Extracting /tmp/data/train-labels-idx1-ubyte.gz\n",
            "Extracting /tmp/data/t10k-images-idx3-ubyte.gz\n",
            "Extracting /tmp/data/t10k-labels-idx1-ubyte.gz\n"
          ],
          "name": "stdout"
        }
      ]
    },
    {
      "metadata": {
        "id": "O4ydYYgvPdHn",
        "colab_type": "code",
        "colab": {}
      },
      "cell_type": "code",
      "source": [
        "nodes1 = 500\n",
        "nodes2 = 500\n",
        "nodes3 = 500\n",
        "\n",
        "\n",
        "classes = 10\n",
        "batch_size = 100\n",
        "\n",
        "x = tf.placeholder('float',[None,784])\n",
        "y = tf.placeholder('float')\n",
        "\n",
        "def neural_network_model(data):\n",
        "  layer1 = {'weights':tf.Variable(tf.random_normal([784,nodes1])),\n",
        "            'biases':tf.Variable(tf.random_normal([nodes1]))}\n",
        "  layer2 = {'weights':tf.Variable(tf.random_normal([nodes1,nodes2])),\n",
        "            'biases':tf.Variable(tf.random_normal([nodes2]))}\n",
        "  layer3 = {'weights':tf.Variable(tf.random_normal([nodes2,nodes3])),\n",
        "             'biases':tf.Variable(tf.random_normal([nodes3]))}\n",
        "  layer_out = {'weights':tf.Variable(tf.random_normal([nodes3,classes])),\n",
        "            'biases':tf.Variable(tf.random_normal([classes]))}\n",
        "  \n",
        "  l1 = tf.add(tf.matmul(data,layer1['weights']),layer1['biases'])\n",
        "  l1 = tf.nn.relu(l1)\n",
        "  \n",
        "  l2 = tf.add(tf.matmul(l1,layer2['weights']),layer2['biases'])\n",
        "  l2 = tf.nn.relu(l2)\n",
        "\n",
        "  l3 = tf.add(tf.matmul(l2,layer3['weights']),layer3['biases'])\n",
        "  l3 = tf.nn.relu(l3)\n",
        "  \n",
        "  l_out = tf.add(tf.matmul(l3,layer_out['weights']),layer_out['biases'])\n",
        "  \n",
        "  return l_out\n",
        "\n",
        "\n",
        "  "
      ],
      "execution_count": 0,
      "outputs": []
    },
    {
      "metadata": {
        "id": "Qmrnrr5LU5e7",
        "colab_type": "code",
        "colab": {}
      },
      "cell_type": "code",
      "source": [
        "def train_neural_network():\n",
        "  prediction = neural_network_model(x)\n",
        "  cost = tf.reduce_mean(tf.nn.softmax_cross_entropy_with_logits_v2(logits = prediction,labels = y))\n",
        "  optimizer = tf.train.AdamOptimizer().minimize(cost)\n",
        "  \n",
        "  n_epochs = 100\n",
        "  \n",
        "  with tf.Session() as sess:\n",
        "    sess.run(tf.initialize_all_variables())\n",
        "    \n",
        "    for epoch in range(n_epochs):\n",
        "      epoch_loss =  0\n",
        "      for _ in range(int(mnist.train.num_examples/batch_size)):\n",
        "        train_data,train_labels = mnist.train.next_batch(batch_size)\n",
        "        _, c  =  sess.run([optimizer,cost],  feed_dict = {x:train_data,y:train_labels})\n",
        "        epoch_loss += c\n",
        "      print('Epoch : ',epoch,'/',n_epochs,' loss : ',epoch_loss)\n",
        "      \n",
        "      \n",
        "      \n",
        "    correct = tf.equal(tf.argmax(prediction,1),tf.argmax(y,1))\n",
        "    accuracy = tf.reduce_mean(tf.cast(correct,'float'))\n",
        "    print('Accuracy : ',accuracy.eval({x:mnist.test.images,y: mnist.test.labels}))\n",
        "    \n",
        "  "
      ],
      "execution_count": 0,
      "outputs": []
    },
    {
      "metadata": {
        "id": "PGDmli5XWlb4",
        "colab_type": "code",
        "colab": {
          "base_uri": "https://localhost:8080/",
          "height": 1734
        },
        "outputId": "f096639b-99e9-40a4-f08f-5597771a4d45"
      },
      "cell_type": "code",
      "source": [
        "train_neural_network()\n"
      ],
      "execution_count": 99,
      "outputs": [
        {
          "output_type": "stream",
          "text": [
            "Epoch :  0 / 100  loss :  1783988.7825622559\n",
            "Epoch :  1 / 100  loss :  395791.8266906738\n",
            "Epoch :  2 / 100  loss :  213471.24092197418\n",
            "Epoch :  3 / 100  loss :  122430.53272074461\n",
            "Epoch :  4 / 100  loss :  77312.19033966959\n",
            "Epoch :  5 / 100  loss :  49003.83624732494\n",
            "Epoch :  6 / 100  loss :  32047.24737302959\n",
            "Epoch :  7 / 100  loss :  23262.02036897838\n",
            "Epoch :  8 / 100  loss :  18421.741354377395\n",
            "Epoch :  9 / 100  loss :  17946.54710168818\n",
            "Epoch :  10 / 100  loss :  14426.04351978004\n",
            "Epoch :  11 / 100  loss :  15681.57687667607\n",
            "Epoch :  12 / 100  loss :  13666.02034540847\n",
            "Epoch :  13 / 100  loss :  12055.056046076119\n",
            "Epoch :  14 / 100  loss :  13523.956017792225\n",
            "Epoch :  15 / 100  loss :  8299.216875374317\n",
            "Epoch :  16 / 100  loss :  11918.977353283026\n",
            "Epoch :  17 / 100  loss :  11795.969401677847\n",
            "Epoch :  18 / 100  loss :  9722.174022640884\n",
            "Epoch :  19 / 100  loss :  12402.610765611287\n",
            "Epoch :  20 / 100  loss :  8755.044108331194\n",
            "Epoch :  21 / 100  loss :  7214.9264414310455\n",
            "Epoch :  22 / 100  loss :  6895.022036219958\n",
            "Epoch :  23 / 100  loss :  8975.574072089043\n",
            "Epoch :  24 / 100  loss :  6881.94504673779\n",
            "Epoch :  25 / 100  loss :  8282.591663306801\n",
            "Epoch :  26 / 100  loss :  6412.807355001569\n",
            "Epoch :  27 / 100  loss :  4718.401292622089\n",
            "Epoch :  28 / 100  loss :  7617.755664014286\n",
            "Epoch :  29 / 100  loss :  7580.4979079377645\n",
            "Epoch :  30 / 100  loss :  6232.154964052141\n",
            "Epoch :  31 / 100  loss :  4942.824844747782\n",
            "Epoch :  32 / 100  loss :  3912.3156957924366\n",
            "Epoch :  33 / 100  loss :  6338.934793670178\n",
            "Epoch :  34 / 100  loss :  5223.586080816087\n",
            "Epoch :  35 / 100  loss :  5910.779438093305\n",
            "Epoch :  36 / 100  loss :  4924.376489368383\n",
            "Epoch :  37 / 100  loss :  5581.769327789778\n",
            "Epoch :  38 / 100  loss :  4953.41722185224\n",
            "Epoch :  39 / 100  loss :  4841.2998446404235\n",
            "Epoch :  40 / 100  loss :  3786.53840703073\n",
            "Epoch :  41 / 100  loss :  5763.632265720367\n",
            "Epoch :  42 / 100  loss :  3956.6334424316883\n",
            "Epoch :  43 / 100  loss :  3822.6149479508344\n",
            "Epoch :  44 / 100  loss :  4891.306320160627\n",
            "Epoch :  45 / 100  loss :  4506.754997968674\n",
            "Epoch :  46 / 100  loss :  3295.9641712915895\n",
            "Epoch :  47 / 100  loss :  4246.606563001871\n",
            "Epoch :  48 / 100  loss :  4771.993777275085\n",
            "Epoch :  49 / 100  loss :  4606.60887150869\n",
            "Epoch :  50 / 100  loss :  3601.790501318622\n",
            "Epoch :  51 / 100  loss :  3973.9049597932026\n",
            "Epoch :  52 / 100  loss :  3611.0365656183567\n",
            "Epoch :  53 / 100  loss :  2199.829119682312\n",
            "Epoch :  54 / 100  loss :  3904.93978703022\n",
            "Epoch :  55 / 100  loss :  3273.0637398064137\n",
            "Epoch :  56 / 100  loss :  3301.5239689419104\n",
            "Epoch :  57 / 100  loss :  3325.6014351621225\n",
            "Epoch :  58 / 100  loss :  3810.977180232767\n",
            "Epoch :  59 / 100  loss :  2776.515985847712\n",
            "Epoch :  60 / 100  loss :  2821.8096079826355\n",
            "Epoch :  61 / 100  loss :  3692.320573568344\n",
            "Epoch :  62 / 100  loss :  2160.8246864099056\n",
            "Epoch :  63 / 100  loss :  2747.3381573855877\n",
            "Epoch :  64 / 100  loss :  3009.763688340783\n",
            "Epoch :  65 / 100  loss :  3596.504302293062\n",
            "Epoch :  66 / 100  loss :  3974.636982768774\n",
            "Epoch :  67 / 100  loss :  3124.7454798817635\n",
            "Epoch :  68 / 100  loss :  2850.828512282372\n",
            "Epoch :  69 / 100  loss :  2616.8674811024844\n",
            "Epoch :  70 / 100  loss :  2776.9326302679256\n",
            "Epoch :  71 / 100  loss :  3992.207460820675\n",
            "Epoch :  72 / 100  loss :  1948.2243834733963\n",
            "Epoch :  73 / 100  loss :  3918.0573292970657\n",
            "Epoch :  74 / 100  loss :  3006.050924271345\n",
            "Epoch :  75 / 100  loss :  3020.8879471719265\n",
            "Epoch :  76 / 100  loss :  1829.2727844119072\n",
            "Epoch :  77 / 100  loss :  2845.50111413002\n",
            "Epoch :  78 / 100  loss :  2278.90726736933\n",
            "Epoch :  79 / 100  loss :  2472.6952786445618\n",
            "Epoch :  80 / 100  loss :  2409.8908405618113\n",
            "Epoch :  81 / 100  loss :  3006.077276597023\n",
            "Epoch :  82 / 100  loss :  2341.656392097473\n",
            "Epoch :  83 / 100  loss :  3070.4754405617714\n",
            "Epoch :  84 / 100  loss :  3704.332493826747\n",
            "Epoch :  85 / 100  loss :  2572.6851724386215\n",
            "Epoch :  86 / 100  loss :  1824.3770952224731\n",
            "Epoch :  87 / 100  loss :  2944.7068403959274\n",
            "Epoch :  88 / 100  loss :  2218.0001445412636\n",
            "Epoch :  89 / 100  loss :  1624.1402758657932\n",
            "Epoch :  90 / 100  loss :  2324.4273116588593\n",
            "Epoch :  91 / 100  loss :  2882.384101331234\n",
            "Epoch :  92 / 100  loss :  2223.9055146123283\n",
            "Epoch :  93 / 100  loss :  2129.1777584552765\n",
            "Epoch :  94 / 100  loss :  2199.115665450692\n",
            "Epoch :  95 / 100  loss :  2500.813784480095\n",
            "Epoch :  96 / 100  loss :  2808.272971391678\n",
            "Epoch :  97 / 100  loss :  1890.3253116980195\n",
            "Epoch :  98 / 100  loss :  2905.2386773601174\n",
            "Epoch :  99 / 100  loss :  1768.6887273341417\n",
            "Accuracy :  0.9752\n"
          ],
          "name": "stdout"
        }
      ]
    },
    {
      "metadata": {
        "id": "9S6QJoVjhZQP",
        "colab_type": "code",
        "colab": {
          "base_uri": "https://localhost:8080/",
          "height": 364
        },
        "outputId": "c80086c6-ccde-4ed6-a19f-46d7114e121b"
      },
      "cell_type": "code",
      "source": [
        "import matplotlib.pyplot as plt\n",
        "plt.imshow(mnist.test.images[0].reshape(28,28))"
      ],
      "execution_count": 103,
      "outputs": [
        {
          "output_type": "execute_result",
          "data": {
            "text/plain": [
              "<matplotlib.image.AxesImage at 0x7f0975ecc0f0>"
            ]
          },
          "metadata": {
            "tags": []
          },
          "execution_count": 103
        },
        {
          "output_type": "display_data",
          "data": {
            "image/png": "[encoded data removed]",
            "text/plain": [
              "<matplotlib.figure.Figure at 0x7f0978037cc0>"
            ]
          },
          "metadata": {
            "tags": []
          }
        }
      ]
    }
  ]
}